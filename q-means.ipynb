{
 "cells": [
  {
   "cell_type": "code",
   "execution_count": 2,
   "metadata": {},
   "outputs": [],
   "source": [
    "import pandas as pd\n",
    "import numpy as np\n",
    "import matplotlib.pyplot as plt\n",
    "from copy import deepcopy\n",
    "from numpy import pi\n",
    "from qiskit import QuantumRegister, ClassicalRegister\n",
    "from qiskit import QuantumCircuit\n",
    "from qiskit import Aer, execute\n",
    "\n",
    "# Get the data from the .csv file\n",
    "df = pd.read_csv('kmeans_data.csv',\n",
    "    usecols=['Feature 1', 'Feature 2', 'Class'])\n"
   ]
  },
  {
   "cell_type": "code",
   "execution_count": 3,
   "metadata": {},
   "outputs": [
    {
     "data": {
      "text/html": [
       "<div>\n",
       "<style scoped>\n",
       "    .dataframe tbody tr th:only-of-type {\n",
       "        vertical-align: middle;\n",
       "    }\n",
       "\n",
       "    .dataframe tbody tr th {\n",
       "        vertical-align: top;\n",
       "    }\n",
       "\n",
       "    .dataframe thead th {\n",
       "        text-align: right;\n",
       "    }\n",
       "</style>\n",
       "<table border=\"1\" class=\"dataframe\">\n",
       "  <thead>\n",
       "    <tr style=\"text-align: right;\">\n",
       "      <th></th>\n",
       "      <th>Feature 1</th>\n",
       "      <th>Feature 2</th>\n",
       "      <th>Class</th>\n",
       "    </tr>\n",
       "  </thead>\n",
       "  <tbody>\n",
       "    <tr>\n",
       "      <th>0</th>\n",
       "      <td>-0.646</td>\n",
       "      <td>0.763</td>\n",
       "      <td>Green</td>\n",
       "    </tr>\n",
       "    <tr>\n",
       "      <th>1</th>\n",
       "      <td>-0.610</td>\n",
       "      <td>0.617</td>\n",
       "      <td>Green</td>\n",
       "    </tr>\n",
       "    <tr>\n",
       "      <th>2</th>\n",
       "      <td>-0.596</td>\n",
       "      <td>0.915</td>\n",
       "      <td>Green</td>\n",
       "    </tr>\n",
       "    <tr>\n",
       "      <th>3</th>\n",
       "      <td>-0.565</td>\n",
       "      <td>0.927</td>\n",
       "      <td>Green</td>\n",
       "    </tr>\n",
       "    <tr>\n",
       "      <th>4</th>\n",
       "      <td>-0.542</td>\n",
       "      <td>0.631</td>\n",
       "      <td>Green</td>\n",
       "    </tr>\n",
       "  </tbody>\n",
       "</table>\n",
       "</div>"
      ],
      "text/plain": [
       "   Feature 1  Feature 2  Class\n",
       "0     -0.646      0.763  Green\n",
       "1     -0.610      0.617  Green\n",
       "2     -0.596      0.915  Green\n",
       "3     -0.565      0.927  Green\n",
       "4     -0.542      0.631  Green"
      ]
     },
     "execution_count": 3,
     "metadata": {},
     "output_type": "execute_result"
    }
   ],
   "source": [
    "df.head()"
   ]
  },
  {
   "cell_type": "code",
   "execution_count": 4,
   "metadata": {},
   "outputs": [],
   "source": [
    "# Change categorical data to number 0-2\n",
    "df[\"Class\"] = pd.Categorical(df[\"Class\"])\n",
    "df[\"Class\"] = df[\"Class\"].cat.codes\n",
    "# Change dataframe to numpy matrix\n",
    "data = df.values[:, 0:2]\n",
    "category = df.values[:, 2]"
   ]
  },
  {
   "cell_type": "code",
   "execution_count": 5,
   "metadata": {},
   "outputs": [
    {
     "name": "stdout",
     "output_type": "stream",
     "text": [
      "[[-0.25  0.2 ]\n",
      " [ 0.   -0.1 ]\n",
      " [ 0.25  0.35]]\n"
     ]
    },
    {
     "data": {
      "text/plain": [
       "<matplotlib.collections.PathCollection at 0x123416cc0>"
      ]
     },
     "execution_count": 5,
     "metadata": {},
     "output_type": "execute_result"
    },
    {
     "data": {
      "image/png": "[encoded data removed]",
      "text/plain": [
       "<Figure size 432x288 with 1 Axes>"
      ]
     },
     "metadata": {
      "needs_background": "light"
     },
     "output_type": "display_data"
    }
   ],
   "source": [
    "# Number of clusters\n",
    "k = 3\n",
    "# Number of training data\n",
    "n = data.shape[0]\n",
    "# Number of features in the data\n",
    "c = data.shape[1]\n",
    "\n",
    "# Generate random centers, here we use sigma and mean to ensure it represent the whole data\n",
    "mean = np.mean(data, axis = 0)\n",
    "std = np.std(data, axis = 0)\n",
    "centers = np.random.randn(k,c)*std + mean\n",
    "\n",
    "# Static data to test\n",
    "centers = np.array([[-0.25, 0.2], [0, -0.1], [0.25, 0.35]])\n",
    "print(centers)\n",
    "\n",
    "# Plot the data and the centers generated as random\n",
    "colors=['green', 'blue', 'black']\n",
    "for i in range(n):\n",
    "    plt.scatter(data[i, 0], data[i,1], s=7, color = colors[int(category[i])])\n",
    "plt.scatter(centers[:,0], centers[:,1], marker='*', c='g', s=150)"
   ]
  },
  {
   "cell_type": "code",
   "execution_count": 6,
   "metadata": {},
   "outputs": [],
   "source": [
    "def point_centroid_distances(point, centroids):\n",
    "    \n",
    "    # Calculating theta and phi values\n",
    "    phi_list = [((x + 1) * pi / 2) for x in [point[0], centroids[0][0], centroids[1][0], centroids[2][0]]]\n",
    "    theta_list = [((x + 1) * pi / 2) for x in [point[1], centroids[0][1], centroids[1][1], centroids[2][1]]]\n",
    "\n",
    "    # Create a 2 qubit QuantumRegister - two for the vectors, and \n",
    "    # one for the ancillary qubit\n",
    "    qreg = QuantumRegister(3, 'qreg')\n",
    "\n",
    "    # Create a one bit ClassicalRegister to hold the result\n",
    "    # of the measurements\n",
    "    creg = ClassicalRegister(1, 'creg')\n",
    "\n",
    "    qc = QuantumCircuit(qreg, creg, name='qc')\n",
    "\n",
    "    # Get backend using the Aer provider\n",
    "    backend = Aer.get_backend('qasm_simulator')\n",
    "\n",
    "    # Create list to hold the results\n",
    "    results_list = []\n",
    "\n",
    "    # Estimating distances from the new point to the centroids\n",
    "    for i in range(1, 4):\n",
    "        # Apply a Hadamard to the ancillary\n",
    "        qc.h(qreg[2])\n",
    "\n",
    "        # Encode new point and centroid\n",
    "        qc.u3(theta_list[0], phi_list[0], 0, qreg[0])           \n",
    "        qc.u3(theta_list[i], phi_list[i], 0, qreg[1]) \n",
    "\n",
    "        # Perform controlled swap\n",
    "        qc.cswap(qreg[2], qreg[0], qreg[1])\n",
    "        # Apply second Hadamard to ancillary\n",
    "        qc.h(qreg[2])\n",
    "\n",
    "        # Measure ancillary\n",
    "        qc.measure(qreg[2], creg[0])\n",
    "\n",
    "        # Reset qubits\n",
    "        qc.reset(qreg)\n",
    "\n",
    "        # Register and execute job\n",
    "        job = execute(qc, backend=backend, shots=5000)\n",
    "        result = job.result().get_counts(qc)\n",
    "        try:\n",
    "            results_list.append(result['1'])\n",
    "        except:\n",
    "            results_list.append(0)\n",
    "\n",
    "\n",
    "    return results_list"
   ]
  },
  {
   "cell_type": "code",
   "execution_count": 7,
   "metadata": {},
   "outputs": [
    {
     "name": "stdout",
     "output_type": "stream",
     "text": [
      "1.5454356057317857\n",
      "0.5454356057317857\n"
     ]
    },
    {
     "data": {
      "text/plain": [
       "array([[-0.38494118,  0.45547059],\n",
       "       [-0.08408333, -0.35633333],\n",
       "       [ 0.28317647,  0.43588235]])"
      ]
     },
     "execution_count": 7,
     "metadata": {},
     "output_type": "execute_result"
    }
   ],
   "source": [
    "centers_old = np.zeros(centers.shape) # to store old centers\n",
    "centers_new = deepcopy(centers) # Store new centers\n",
    "\n",
    "data.shape\n",
    "clusters = np.zeros(n)\n",
    "distances = np.zeros((n,k))\n",
    "\n",
    "error = np.linalg.norm(centers_new - centers_old)\n",
    "upper_error = error + 1\n",
    "\n",
    "# When, after an update, the estimate of that center stays the same, exit loop\n",
    "while error < upper_error:\n",
    "    # Measure the distance to every center\n",
    "    \n",
    "    distances = np.array(list(map(lambda x: point_centroid_distances(x, centers), data)))\n",
    "\n",
    "    # Assign all training data to closest center\n",
    "    clusters = np.argmin(distances, axis = 1)\n",
    "    \n",
    "    centers_old = deepcopy(centers_new)\n",
    "    # Calculate mean for every cluster and update the center\n",
    "    for i in range(k):\n",
    "        centers_new[i] = np.mean(data[clusters == i], axis=0)\n",
    "    upper_error = deepcopy(error)\n",
    "    error = np.linalg.norm(centers_new - centers_old)\n",
    "    if error < 0.02:\n",
    "        break\n",
    "centers_new"
   ]
  },
  {
   "cell_type": "code",
   "execution_count": 8,
   "metadata": {},
   "outputs": [
    {
     "data": {
      "text/plain": [
       "<matplotlib.collections.PathCollection at 0x1237b57b8>"
      ]
     },
     "execution_count": 8,
     "metadata": {},
     "output_type": "execute_result"
    },
    {
     "data": {
      "image/png": "[encoded data removed]",
      "text/plain": [
       "<Figure size 432x288 with 1 Axes>"
      ]
     },
     "metadata": {
      "needs_background": "light"
     },
     "output_type": "display_data"
    }
   ],
   "source": [
    "# Plot the data and the centers generated as random\n",
    "for i in range(n):\n",
    "    plt.scatter(data[i, 0], data[i,1], s=7, color = colors[int(category[i])])\n",
    "plt.scatter(centers_new[:,0], centers_new[:,1], marker='*', c='g', s=150)"
   ]
  },
  {
   "cell_type": "code",
   "execution_count": null,
   "metadata": {},
   "outputs": [],
   "source": []
  }
 ],
 "metadata": {
  "kernelspec": {
   "display_name": "Python 3",
   "language": "python",
   "name": "python3"
  },
  "language_info": {
   "codemirror_mode": {
    "name": "ipython",
    "version": 3
   },
   "file_extension": ".py",
   "mimetype": "text/x-python",
   "name": "python",
   "nbconvert_exporter": "python",
   "pygments_lexer": "ipython3",
   "version": "3.7.2"
  }
 },
 "nbformat": 4,
 "nbformat_minor": 2
}
