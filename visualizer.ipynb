{
 "cells": [
  {
   "cell_type": "code",
   "execution_count": 102,
   "metadata": {},
   "outputs": [
    {
     "data": {
      "text/html": [
       "<style>.container { width:100% !important; }</style>"
      ],
      "text/plain": [
       "<IPython.core.display.HTML object>"
      ]
     },
     "metadata": {},
     "output_type": "display_data"
    }
   ],
   "source": [
    "from qiskit import QuantumCircuit, ClassicalRegister, QuantumRegister\n",
    "import pandas as pd\n",
    "import numpy as np\n",
    "from numpy import pi\n",
    "from qiskit import Aer, execute\n",
    "from IPython.core.display import display, HTML\n",
    "display(HTML(\"<style>.container { width:100% !important; }</style>\"))"
   ]
  },
  {
   "cell_type": "code",
   "execution_count": 86,
   "metadata": {
    "collapsed": true
   },
   "outputs": [],
   "source": [
    "# Get the data from the .csv file\n",
    "df = pd.read_csv('kmeans_data.csv',\n",
    "    usecols=['Feature 1', 'Feature 2', 'Class'])\n",
    "# Change categorical data to number 0-2\n",
    "df[\"Class\"] = pd.Categorical(df[\"Class\"])\n",
    "df[\"Class\"] = df[\"Class\"].cat.codes\n",
    "# Change dataframe to numpy matrix\n",
    "data = df.values[:, 0:2]\n",
    "category = df.values[:, 2]\n",
    "\n",
    "c = data.shape[1]"
   ]
  },
  {
   "cell_type": "code",
   "execution_count": 87,
   "metadata": {
    "collapsed": true
   },
   "outputs": [],
   "source": [
    "mean = np.mean(data, axis = 0)\n",
    "std = np.std(data, axis = 0)\n",
    "centers = np.random.randn(k,c)*std + mean"
   ]
  },
  {
   "cell_type": "code",
   "execution_count": 88,
   "metadata": {
    "collapsed": true
   },
   "outputs": [],
   "source": [
    "def encode_feature(x):\n",
    "    \"\"\"\"\n",
    "    We map data feature values to \\theta and \\phi values using this equation:\n",
    "        \\phi = (x + 1) \\frac{\\pi}{2},\n",
    "    where \\phi is the phase and \\theta the angle\n",
    "    \"\"\"\n",
    "    return ((x + 1) * pi / 2)"
   ]
  },
  {
   "cell_type": "code",
   "execution_count": 101,
   "metadata": {
    "collapsed": true
   },
   "outputs": [],
   "source": [
    "\n",
    "centroids = np.array([[-0.25, 0.2], [0, -0.1], [0.25, 0.35]])\n",
    "\n",
    "\n",
    "\n",
    "\n",
    "k = len(centroids)\n",
    "#x_point, y_point = point[0], point[1]\n",
    "x_point, y_point = -0.161,0.141\n",
    "    \n",
    "# Calculating theta and phi values\n",
    "phi_list = [encode_feature(x) for x in [centroids[0][0], centroids[1][0], centroids[2][0]]]\n",
    "theta_list = [encode_feature(x) for x in [centroids[0][1], centroids[1][1], centroids[2][1]]]\n",
    "phi_input = encode_feature(x_point)\n",
    "theta_input = encode_feature(y_point)\n",
    "\n",
    "\n",
    "# We need 3 quantum registers, of size k one for a data point (input),\n",
    "# one for each centroid and one for each ancillary\n",
    "qreg_input = QuantumRegister(k, name='qreg_input')\n",
    "qreg_centroid = QuantumRegister(k, name='qreg_centroid')\n",
    "qreg_psi = QuantumRegister(k, name='qreg_psi')\n",
    "\n",
    "\n",
    "# Create a one bit ClassicalRegister to hold the result\n",
    "# of the measurements\n",
    "creg = ClassicalRegister(k, 'creg')\n",
    "\n",
    "# Create the quantum circuit containing our registers\n",
    "qc = QuantumCircuit(qreg_input, qreg_centroid, qreg_psi, creg, name='qc')\n",
    "\n",
    "backend = Aer.get_backend('qasm_simulator')\n",
    "\n",
    "    # Encode the point to measure and centroid\n",
    "for i in range(k):\n",
    "    qc.u3(theta_list[i], phi_list[i], 0, qreg_centroid[i])\n",
    "    qc.u3(theta_input, phi_input, 0, qreg_input[i]) \n",
    "\n",
    "for i in range(k):\n",
    "    # Apply a Hadamard to the ancillaries\n",
    "    qc.h(qreg_psi[i])\n",
    "\n",
    "    # Perform controlled swap\n",
    "    qc.cswap(qreg_psi[i], qreg_input[i], qreg_centroid[i]) \n",
    "\n",
    "        # Apply second Hadamard to ancillary\n",
    "    qc.h(qreg_psi[i])\n",
    "\n",
    "        # Measure ancillary\n",
    "    qc.measure(qreg_psi[i], creg[i])\n",
    "        \n"
   ]
  },
  {
   "cell_type": "code",
   "execution_count": 98,
   "metadata": {},
   "outputs": [
    {
     "name": "stdout",
     "output_type": "stream",
     "text": [
      "                    ┌─────────────────────┐           \n",
      "   qreg_input_0: |0>┤ U3(1.7923,1.3179,0) ├─X─────────\n",
      "                    ├─────────────────────┤ │         \n",
      "   qreg_input_1: |0>┤ U3(1.7923,1.3179,0) ├─┼─────────\n",
      "                    ├─────────────────────┤ │         \n",
      "   qreg_input_2: |0>┤ U3(1.7923,1.3179,0) ├─┼─────────\n",
      "                    └┬────────────────────┤ │         \n",
      "qreg_centroid_0: |0>─┤ U3(1.885,1.1781,0) ├─X─────────\n",
      "                    ┌┴────────────────────┤ │         \n",
      "qreg_centroid_1: |0>┤ U3(1.4137,1.5708,0) ├─┼─────────\n",
      "                    ├─────────────────────┤ │         \n",
      "qreg_centroid_2: |0>┤ U3(2.1206,1.9635,0) ├─┼─────────\n",
      "                    └────────┬───┬────────┘ │ ┌───┐┌─┐\n",
      "     qreg_psi_0: |0>─────────┤ H ├──────────■─┤ H ├┤M├\n",
      "                             └───┘            └───┘└╥┘\n",
      "     qreg_psi_1: |0>────────────────────────────────╫─\n",
      "                                                    ║ \n",
      "     qreg_psi_2: |0>────────────────────────────────╫─\n",
      "                                                    ║ \n",
      "          creg_0: 0 ════════════════════════════════╩═\n",
      "                                                      \n",
      "          creg_1: 0 ══════════════════════════════════\n",
      "                                                      \n",
      "          creg_2: 0 ══════════════════════════════════\n",
      "                                                      \n"
     ]
    }
   ],
   "source": [
    "print(qc)\n"
   ]
  },
  {
   "cell_type": "code",
   "execution_count": 99,
   "metadata": {},
   "outputs": [
    {
     "data": {
      "text/html": [
       "<pre style=\"word-wrap: normal;white-space: pre;line-height: 15px;\">                    ┌─────────────────────┐           \n",
       "   qreg_input_0: |0>┤ U3(1.7923,1.3179,0) ├─X─────────\n",
       "                    ├─────────────────────┤ │         \n",
       "   qreg_input_1: |0>┤ U3(1.7923,1.3179,0) ├─┼─────────\n",
       "                    ├─────────────────────┤ │         \n",
       "   qreg_input_2: |0>┤ U3(1.7923,1.3179,0) ├─┼─────────\n",
       "                    └┬────────────────────┤ │         \n",
       "qreg_centroid_0: |0>─┤ U3(1.885,1.1781,0) ├─X─────────\n",
       "                    ┌┴────────────────────┤ │         \n",
       "qreg_centroid_1: |0>┤ U3(1.4137,1.5708,0) ├─┼─────────\n",
       "                    ├─────────────────────┤ │         \n",
       "qreg_centroid_2: |0>┤ U3(2.1206,1.9635,0) ├─┼─────────\n",
       "                    └────────┬───┬────────┘ │ ┌───┐┌─┐\n",
       "     qreg_psi_0: |0>─────────┤ H ├──────────■─┤ H ├┤M├\n",
       "                             └───┘            └───┘└╥┘\n",
       "     qreg_psi_1: |0>────────────────────────────────╫─\n",
       "                                                    ║ \n",
       "     qreg_psi_2: |0>────────────────────────────────╫─\n",
       "                                                    ║ \n",
       "          creg_0: 0 ════════════════════════════════╩═\n",
       "                                                      \n",
       "          creg_1: 0 ══════════════════════════════════\n",
       "                                                      \n",
       "          creg_2: 0 ══════════════════════════════════\n",
       "                                                      </pre>"
      ],
      "text/plain": [
       "<qiskit.visualization.text.TextDrawing at 0x141dd7be0>"
      ]
     },
     "execution_count": 99,
     "metadata": {},
     "output_type": "execute_result"
    }
   ],
   "source": [
    "qc.draw()"
   ]
  },
  {
   "cell_type": "code",
   "execution_count": 100,
   "metadata": {},
   "outputs": [
    {
     "data": {
      "image/png": "[encoded data removed]",
      "text/plain": [
       "<matplotlib.figure.Figure at 0x142f2fba8>"
      ]
     },
     "execution_count": 100,
     "metadata": {},
     "output_type": "execute_result"
    }
   ],
   "source": [
    "# Matplotlib Drawing\n",
    "qc.draw(output='mpl')\n"
   ]
  },
  {
   "cell_type": "code",
   "execution_count": 104,
   "metadata": {},
   "outputs": [
    {
     "data": {
      "image/png": "[encoded data removed]",
      "text/plain": [
       "<matplotlib.figure.Figure at 0x12f38f048>"
      ]
     },
     "execution_count": 104,
     "metadata": {},
     "output_type": "execute_result"
    }
   ],
   "source": [
    "# Change the background color in mpl\n",
    "\n",
    "style = {'backgroundcolor': '#DFEAEC', 'showindex': False, 'displaycolor': {\n",
    "        'id': 'red', 'meas':'#0066DA', 'h': '#00DAA7', 'u3': '#EFFF1B'} }\n",
    "\n",
    "qc.draw(output='mpl', style=style, reverse_bits= False,filename=\"d2.png\",scale=1)\n"
   ]
  },
  {
   "cell_type": "code",
   "execution_count": 84,
   "metadata": {},
   "outputs": [
    {
     "data": {
      "image/png": "[encoded data removed]",
      "text/plain": [
       "<matplotlib.figure.Figure at 0x1402f2a58>"
      ]
     },
     "execution_count": 84,
     "metadata": {},
     "output_type": "execute_result"
    }
   ],
   "source": [
    "# Change the background color in mpl\n",
    "\n",
    "style = {'backgroundcolor': '#DFEAEC', 'showindex': False, 'displaycolor': {\n",
    "        'id': 'red', 'meas':'#0066DA', 'h': '#00DAA7', 'u3': '#EFFF1B'} }\n",
    "\n",
    "qc.draw(output='mpl', style=style, reverse_bits= False,filename=\"d1.png\")\n"
   ]
  },
  {
   "cell_type": "markdown",
   "metadata": {},
   "source": [
    "### Paper circuit"
   ]
  },
  {
   "cell_type": "code",
   "execution_count": 83,
   "metadata": {},
   "outputs": [
    {
     "data": {
      "image/png": "[encoded data removed]",
      "text/plain": [
       "<matplotlib.figure.Figure at 0x1406355c0>"
      ]
     },
     "execution_count": 83,
     "metadata": {},
     "output_type": "execute_result"
    }
   ],
   "source": [
    "import matplotlib.pyplot as plt\n",
    "import pandas as pd\n",
    "from qiskit import QuantumRegister, ClassicalRegister\n",
    "from qiskit import QuantumCircuit\n",
    "from qiskit import Aer, execute\n",
    "from numpy import pi\n",
    "\n",
    "#fig, ax = plt.subplots()\n",
    "ax.set(xlabel='Data Feature 1', ylabel='Data Feature 2')\n",
    "\n",
    "# Get the data from the .csv file\n",
    "data = pd.read_csv('kmeans_data.csv',\n",
    "    usecols=['Feature 1', 'Feature 2', 'Class'])\n",
    "\n",
    "# Create binary variables to filter data\n",
    "isGreen = data['Class'] == 'Green'\n",
    "isBlue = data['Class'] == 'Blue'\n",
    "isBlack = data['Class'] == 'Black'\n",
    "\n",
    "# Filter data\n",
    "greenData = data[isGreen].drop(['Class'], axis=1)\n",
    "blueData = data[isBlue].drop(['Class'], axis=1)\n",
    "blackData = data[isBlack].drop(['Class'], axis=1)\n",
    "\n",
    "# This is the point we need to classify\n",
    "y_p = 0.141\n",
    "x_p = -0.161\n",
    "\n",
    "# Finding the x-coords of the centroids\n",
    "xgc = sum(greenData['Feature 1']) / len(greenData['Feature 1'])\n",
    "xbc = sum(blueData['Feature 1']) / len(blueData['Feature 1'])\n",
    "xkc = sum(blackData['Feature 1']) / len(blackData['Feature 1'])\n",
    "'''\n",
    "# Finding the y-coords of the centroids\n",
    "ygc = sum(greenData['Feature 2']) / len(greenData['Feature 2'])\n",
    "ybc = sum(blueData['Feature 2']) / len(blueData['Feature 2'])\n",
    "ykc = sum(blackData['Feature 2']) / len(blackData['Feature 2'])\n",
    "\n",
    "# Plotting the centroids\n",
    "plt.plot(xgc, ygc, 'gx')\n",
    "plt.plot(xbc, ybc, 'bx')\n",
    "plt.plot(xkc, ykc, 'kx')\n",
    "\n",
    "# Plotting the new data point\n",
    "plt.plot(x_p, y_p, 'ro')\n",
    "\n",
    "# Setting the axis ranges\n",
    "plt.axis([-1, 1, -1, 1])\n",
    "\n",
    "plt.show()\n",
    "'''\n",
    "# Calculating theta and phi values\n",
    "phi_list = [((x + 1) * pi / 2) for x in [x_p, xgc, xbc, xkc]]\n",
    "theta_list = [((x + 1) * pi / 2) for x in [y_p, ygc, ybc, ykc]]\n",
    "\n",
    "# Create a 2 qubit QuantumRegister - two for the vectors, and \n",
    "# one for the ancillary qubit\n",
    "qreg = QuantumRegister(3, 'qreg')\n",
    "\n",
    "# Create a one bit ClassicalRegister to hold the result\n",
    "# of the measurements\n",
    "creg = ClassicalRegister(1, 'creg')\n",
    "\n",
    "qc = QuantumCircuit(qreg, creg, name='qc')\n",
    "\n",
    "# Get backend using the Aer provider\n",
    "backend = Aer.get_backend('qasm_simulator')\n",
    "\n",
    "# Create list to hold the results\n",
    "results_list = []\n",
    "\n",
    "# Estimating distances from the new point to the centroids\n",
    "for i in range(1, 2): #1:3\n",
    "    # Apply a Hadamard to the ancillary\n",
    "    qc.h(qreg[2])\n",
    "\n",
    "    # Encode new point and centroid\n",
    "    qc.u3(theta_list[0], phi_list[0], 0, qreg[0])           \n",
    "    qc.u3(theta_list[i], phi_list[i], 0, qreg[1]) \n",
    "\n",
    "    # Perform controlled swap\n",
    "    qc.cswap(qreg[2], qreg[0], qreg[1])\n",
    "    # Apply second Hadamard to ancillary\n",
    "    qc.h(qreg[2])\n",
    "\n",
    "    # Measure ancillary\n",
    "    qc.measure(qreg[2], creg[0])\n",
    "\n",
    "    # Reset qubits\n",
    "    #qc.reset(qreg)\n",
    "\n",
    "    # Register and execute job\n",
    "    job = execute(qc, backend=backend, shots=1024)\n",
    "    result = job.result().get_counts(qc)\n",
    "    results_list.append(result['1'])\n",
    "\n",
    "#print(results_list)\n",
    "\n",
    "style = {'backgroundcolor': '#DFEAEC', 'showindex': False, 'displaycolor': {\n",
    "        'id': 'red', 'meas':'#0066DA', 'h': '#00DAA7', 'u3': '#EFFF1B'} }\n",
    "\n",
    "qc.draw(output='mpl', style=style, reverse_bits= False)\n",
    "\n",
    "#\n",
    "#style = {'backgroundcolor': '#DFEAEC', 'showindex': False, 'fold':30,'displaycolor': {\n",
    "#        'id': 'red', 'meas':'#0066DA', 'h': '#00DAA7', 'u3': '#EFFF1B'} }\n",
    "\n",
    "#qc.draw(output='mpl', style=style, reverse_bits= False,justify=\"None\")"
   ]
  },
  {
   "cell_type": "code",
   "execution_count": null,
   "metadata": {
    "collapsed": true
   },
   "outputs": [],
   "source": [
    "style = {'backgroundcolor': '#DFEAEC', 'showindex': False, 'displaycolor': {\n",
    "        'id': 'red', 'meas':'#0066DA', 'h': '#00DAA7', 'u3': '#EFFF1B'} }\n",
    "\n",
    "qc.draw(output='mpl', style=style, reverse_bits= False)"
   ]
  },
  {
   "cell_type": "code",
   "execution_count": null,
   "metadata": {
    "collapsed": true
   },
   "outputs": [],
   "source": [
    "import matplotlib.pyplot as plt\n",
    "import pandas as pd\n",
    "from qiskit import QuantumRegister, ClassicalRegister\n",
    "from qiskit import QuantumCircuit\n",
    "from qiskit import Aer, execute\n",
    "from numpy import pi\n",
    "\n",
    "fig, ax = plt.subplots()\n",
    "ax.set(xlabel='Data Feature 1', ylabel='Data Feature 2')\n",
    "\n",
    "# Get the data from the .csv file\n",
    "data = pd.read_csv('kmeans_data.csv',\n",
    "    usecols=['Feature 1', 'Feature 2', 'Class'])\n",
    "\n",
    "# Create binary variables to filter data\n",
    "isGreen = data['Class'] == 'Green'\n",
    "isBlue = data['Class'] == 'Blue'\n",
    "isBlack = data['Class'] == 'Black'\n",
    "\n",
    "# Filter data\n",
    "greenData = data[isGreen].drop(['Class'], axis=1)\n",
    "blueData = data[isBlue].drop(['Class'], axis=1)\n",
    "blackData = data[isBlack].drop(['Class'], axis=1)\n",
    "\n",
    "# This is the point we need to classify\n",
    "y_p = 0.141\n",
    "x_p = -0.161\n",
    "\n",
    "# Finding the x-coords of the centroids\n",
    "xgc = sum(greenData['Feature 1']) / len(greenData['Feature 1'])\n",
    "xbc = sum(blueData['Feature 1']) / len(blueData['Feature 1'])\n",
    "xkc = sum(blackData['Feature 1']) / len(blackData['Feature 1'])\n",
    "\n",
    "# Finding the y-coords of the centroids\n",
    "ygc = sum(greenData['Feature 2']) / len(greenData['Feature 2'])\n",
    "ybc = sum(blueData['Feature 2']) / len(blueData['Feature 2'])\n",
    "ykc = sum(blackData['Feature 2']) / len(blackData['Feature 2'])\n",
    "\n",
    "# Plotting the centroids\n",
    "plt.plot(xgc, ygc, 'gx')\n",
    "plt.plot(xbc, ybc, 'bx')\n",
    "plt.plot(xkc, ykc, 'kx')\n",
    "\n",
    "# Plotting the new data point\n",
    "plt.plot(x_p, y_p, 'ro')\n",
    "\n",
    "# Setting the axis ranges\n",
    "plt.axis([-1, 1, -1, 1])\n",
    "\n",
    "plt.show()\n",
    "\n",
    "# Calculating theta and phi values\n",
    "phi_list = [((x + 1) * pi / 2) for x in [x_p, xgc, xbc, xkc]]\n",
    "theta_list = [((x + 1) * pi / 2) for x in [y_p, ygc, ybc, ykc]]\n",
    "\n",
    "# Create a 2 qubit QuantumRegister - two for the vectors, and \n",
    "# one for the ancillary qubit\n",
    "qreg = QuantumRegister(3, 'qreg')\n",
    "\n",
    "# Create a one bit ClassicalRegister to hold the result\n",
    "# of the measurements\n",
    "creg = ClassicalRegister(1, 'creg')\n",
    "\n",
    "qc = QuantumCircuit(qreg, creg, name='qc')\n",
    "\n",
    "# Get backend using the Aer provider\n",
    "backend = Aer.get_backend('qasm_simulator')\n",
    "\n",
    "# Create list to hold the results\n",
    "results_list = []\n",
    "\n",
    "# Estimating distances from the new point to the centroids\n",
    "for i in range(1, 4):\n",
    "    # Apply a Hadamard to the ancillary\n",
    "    qc.h(qreg[2])\n",
    "\n",
    "    # Encode new point and centroid\n",
    "    qc.u3(theta_list[0], phi_list[0], 0, qreg[0])           \n",
    "    qc.u3(theta_list[i], phi_list[i], 0, qreg[1]) \n",
    "\n",
    "    # Perform controlled swap\n",
    "    qc.cswap(qreg[2], qreg[0], qreg[1])\n",
    "    # Apply second Hadamard to ancillary\n",
    "    qc.h(qreg[2])\n",
    "\n",
    "    # Measure ancillary\n",
    "    qc.measure(qreg[2], creg[0])\n",
    "\n",
    "    # Reset qubits\n",
    "    qc.reset(qreg)\n",
    "\n",
    "    # Register and execute job\n",
    "    job = execute(qc, backend=backend, shots=1024)\n",
    "    result = job.result().get_counts(qc)\n",
    "    results_list.append(result['1'])\n",
    "\n",
    "print(results_list)\n",
    "\n",
    "# Create a list to hold the possible classes\n",
    "class_list = ['Green', 'Blue', 'Black']\n",
    "\n",
    "# Find out which class the new data point belongs to \n",
    "# according to our distance estimation algorithm\n",
    "quantum_p_class = class_list[results_list.index(min(results_list))]\n",
    "\n",
    "# Find out which class the new data point belongs to \n",
    "# according to classical euclidean distance calculation\n",
    "distances_list = [((x_p - i[0])**2 + (y_p - i[1])**2)**0.5 for i in [(xgc, ygc), (xbc, ybc), (xkc, ykc)]]\n",
    "classical_p_class = class_list[distances_list.index(min(distances_list))]"
   ]
  }
 ],
 "metadata": {
  "kernelspec": {
   "display_name": "Python 3",
   "language": "python",
   "name": "python3"
  },
  "language_info": {
   "codemirror_mode": {
    "name": "ipython",
    "version": 3
   },
   "file_extension": ".py",
   "mimetype": "text/x-python",
   "name": "python",
   "nbconvert_exporter": "python",
   "pygments_lexer": "ipython3",
   "version": "3.7.3"
  }
 },
 "nbformat": 4,
 "nbformat_minor": 2
}
