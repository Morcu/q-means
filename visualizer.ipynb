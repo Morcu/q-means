{
 "cells": [
  {
   "cell_type": "code",
   "execution_count": 16,
   "metadata": {
    "collapsed": true
   },
   "outputs": [],
   "source": [
    "from qiskit import QuantumCircuit, ClassicalRegister, QuantumRegister\n",
    "import pandas as pd\n",
    "import numpy as np\n",
    "from numpy import pi"
   ]
  },
  {
   "cell_type": "code",
   "execution_count": 17,
   "metadata": {},
   "outputs": [],
   "source": [
    "# Get the data from the .csv file\n",
    "df = pd.read_csv('kmeans_data.csv',\n",
    "    usecols=['Feature 1', 'Feature 2', 'Class'])\n",
    "# Change categorical data to number 0-2\n",
    "df[\"Class\"] = pd.Categorical(df[\"Class\"])\n",
    "df[\"Class\"] = df[\"Class\"].cat.codes\n",
    "# Change dataframe to numpy matrix\n",
    "data = df.values[:, 0:2]\n",
    "category = df.values[:, 2]\n",
    "\n",
    "c = data.shape[1]"
   ]
  },
  {
   "cell_type": "code",
   "execution_count": 18,
   "metadata": {},
   "outputs": [],
   "source": [
    "mean = np.mean(data, axis = 0)\n",
    "std = np.std(data, axis = 0)\n",
    "centers = np.random.randn(k,c)*std + mean"
   ]
  },
  {
   "cell_type": "code",
   "execution_count": 19,
   "metadata": {
    "collapsed": true
   },
   "outputs": [],
   "source": [
    "def encode_feature(x):\n",
    "    \"\"\"\"\n",
    "    We map data feature values to \\theta and \\phi values using this equation:\n",
    "        \\phi = (x + 1) \\frac{\\pi}{2},\n",
    "    where \\phi is the phase and \\theta the angle\n",
    "    \"\"\"\n",
    "    return ((x + 1) * pi / 2)"
   ]
  },
  {
   "cell_type": "code",
   "execution_count": 20,
   "metadata": {},
   "outputs": [],
   "source": [
    "#centroids = centers\n",
    "\n",
    "centers = np.array([[-0.25, 0.2], [0, -0.1], [0.25, 0.35]])\n",
    "\n",
    "centroids = centers\n",
    "\n",
    "\n",
    "k = len(centroids)\n",
    "#x_point, y_point = point[0], point[1]\n",
    "x_point, y_point = -0.161,0.141\n",
    "    \n",
    "# Calculating theta and phi values\n",
    "phi_list = [encode_feature(x) for x in [centroids[0][0], centroids[1][0], centroids[2][0]]]\n",
    "theta_list = [encode_feature(x) for x in [centroids[0][1], centroids[1][1], centroids[2][1]]]\n",
    "phi_input = encode_feature(x_point)\n",
    "theta_input = encode_feature(y_point)\n",
    "\n",
    "\n",
    "# We need 3 quantum registers, of size k one for a data point (input),\n",
    "# one for each centroid and one for each ancillary\n",
    "qreg_input = QuantumRegister(k, name='qreg_input')\n",
    "qreg_centroid = QuantumRegister(k, name='qreg_centroid')\n",
    "qreg_psi = QuantumRegister(k, name='qreg_psi')\n",
    "\n",
    "\n",
    "# Create a one bit ClassicalRegister to hold the result\n",
    "# of the measurements\n",
    "creg = ClassicalRegister(k, 'creg')\n",
    "\n",
    "# Create the quantum circuit containing our registers\n",
    "qc = QuantumCircuit(qreg_input, qreg_centroid, qreg_psi, creg, name='qc')"
   ]
  },
  {
   "cell_type": "code",
   "execution_count": 22,
   "metadata": {},
   "outputs": [
    {
     "name": "stdout",
     "output_type": "stream",
     "text": [
      "                    \n",
      "   qreg_input_0: |0>\n",
      "                    \n",
      "   qreg_input_1: |0>\n",
      "                    \n",
      "   qreg_input_2: |0>\n",
      "                    \n",
      "qreg_centroid_0: |0>\n",
      "                    \n",
      "qreg_centroid_1: |0>\n",
      "                    \n",
      "qreg_centroid_2: |0>\n",
      "                    \n",
      "     qreg_psi_0: |0>\n",
      "                    \n",
      "     qreg_psi_1: |0>\n",
      "                    \n",
      "     qreg_psi_2: |0>\n",
      "                    \n",
      "          creg_0: 0 \n",
      "                    \n",
      "          creg_1: 0 \n",
      "                    \n",
      "          creg_2: 0 \n",
      "                    \n"
     ]
    }
   ],
   "source": [
    "print(qc)\n"
   ]
  },
  {
   "cell_type": "code",
   "execution_count": 23,
   "metadata": {},
   "outputs": [
    {
     "data": {
      "text/html": [
       "<pre style=\"word-wrap: normal;white-space: pre;line-height: 15px;\">                    \n",
       "   qreg_input_0: |0>\n",
       "                    \n",
       "   qreg_input_1: |0>\n",
       "                    \n",
       "   qreg_input_2: |0>\n",
       "                    \n",
       "qreg_centroid_0: |0>\n",
       "                    \n",
       "qreg_centroid_1: |0>\n",
       "                    \n",
       "qreg_centroid_2: |0>\n",
       "                    \n",
       "     qreg_psi_0: |0>\n",
       "                    \n",
       "     qreg_psi_1: |0>\n",
       "                    \n",
       "     qreg_psi_2: |0>\n",
       "                    \n",
       "          creg_0: 0 \n",
       "                    \n",
       "          creg_1: 0 \n",
       "                    \n",
       "          creg_2: 0 \n",
       "                    </pre>"
      ],
      "text/plain": [
       "<qiskit.visualization.text.TextDrawing at 0x1260c41d0>"
      ]
     },
     "execution_count": 23,
     "metadata": {},
     "output_type": "execute_result"
    }
   ],
   "source": [
    "qc.draw()"
   ]
  },
  {
   "cell_type": "code",
   "execution_count": null,
   "metadata": {
    "collapsed": true
   },
   "outputs": [],
   "source": []
  }
 ],
 "metadata": {
  "kernelspec": {
   "display_name": "Python 3",
   "language": "python",
   "name": "python3"
  },
  "language_info": {
   "codemirror_mode": {
    "name": "ipython",
    "version": 3
   },
   "file_extension": ".py",
   "mimetype": "text/x-python",
   "name": "python",
   "nbconvert_exporter": "python",
   "pygments_lexer": "ipython3",
   "version": "3.7.3"
  }
 },
 "nbformat": 4,
 "nbformat_minor": 2
}
